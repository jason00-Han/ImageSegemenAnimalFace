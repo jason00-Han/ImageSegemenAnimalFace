{
  "nbformat": 4,
  "nbformat_minor": 0,
  "metadata": {
    "colab": {
      "provenance": []
    },
    "kernelspec": {
      "name": "python3",
      "display_name": "Python 3"
    },
    "language_info": {
      "name": "python"
    }
  },
  "cells": [
    {
      "cell_type": "code",
      "source": [
        "import requests\n",
        "import matplotlib.pyplot as plt\n",
        "from PIL import Image\n",
        "from io import BytesIO\n",
        "\n",
        "subscription_key = \"4---\"\n",
        "search_url = \"https://api.bing.microsoft.com/v7.0/images/search\"\n",
        "search_term = \"cats\""
      ],
      "metadata": {
        "id": "cPmehbTxTNY7"
      },
      "execution_count": 14,
      "outputs": []
    },
    {
      "cell_type": "code",
      "source": [
        "headers = {\"Ocp-Apim-Subscription-Key\" : subscription_key}"
      ],
      "metadata": {
        "id": "BCSw6OC4bPgs"
      },
      "execution_count": 15,
      "outputs": []
    },
    {
      "cell_type": "code",
      "source": [
        "params  = {\"q\": search_term, \"license\": \"public\", \"imageType\": \"photo\"}"
      ],
      "metadata": {
        "id": "3AFv-hX5bQfq"
      },
      "execution_count": 16,
      "outputs": []
    },
    {
      "cell_type": "code",
      "source": [
        "response = requests.get(search_url, headers=headers, params=params)\n",
        "response.raise_for_status()\n",
        "search_results = response.json()\n",
        "thumbnail_urls = [img[\"thumbnailUrl\"] for img in search_results[\"value\"][:329]]"
      ],
      "metadata": {
        "id": "FVNLyskkbVgb"
      },
      "execution_count": 21,
      "outputs": []
    },
    {
      "cell_type": "code",
      "source": [
        "import requests\n",
        "from PIL import Image\n",
        "from io import BytesIO\n",
        "from google.colab import drive\n",
        "\n",
        "# 마이크로 빙 API 키와 검색어 설정\n",
        "api_key = '4e8b9536325e4d76bcdfacdbf18d39d3'\n",
        "search_query = 'dog'\n",
        "# 마이크로 빙 이미지 검색 API 요청\n",
        "search_url = f\"https://api.bing.microsoft.com/v7.0/images/search?q={search_query}\"\n",
        "headers = {\"Ocp-Apim-Subscription-Key\": api_key}\n",
        "response = requests.get(search_url, headers=headers)\n",
        "search_results = response.json()\n",
        "\n",
        "# 이미지 다운로드 및 저장\n",
        "if 'value' in search_results:\n",
        "    image_urls = [img['contentUrl'] for img in search_results['value']]\n",
        "\n",
        "    # Google 드라이브 마운트\n",
        "    drive.mount('/content/drive')\n",
        "\n",
        "    # 이미지를 Google 드라이브에 저장\n",
        "    folder_path = '/content/drive/MyDrive/Colab Notebooks/fastAiModel'  # 이미지를 저장할 드라이브 폴더 경로\n",
        "    for i, url in enumerate(image_urls):\n",
        "        try:\n",
        "            image_response = requests.get(url)\n",
        "            image = Image.open(BytesIO(image_response.content))\n",
        "            image.save(f\"{folder_path}/image_dog{i+1}.png\")  # 이미지를 원하는 형식 및 이름으로 저장\n",
        "            print(f\"Image {i+1} saved to Google Drive.\")\n",
        "        except Exception as e:\n",
        "            print(f\"Failed to save image {i+1}: {e}\")\n",
        "else:\n",
        "    print(\"No image results found.\")\n"
      ],
      "metadata": {
        "colab": {
          "base_uri": "https://localhost:8080/"
        },
        "id": "uw7n056Vehg2",
        "outputId": "a8880f53-9831-4900-822c-dac435018522"
      },
      "execution_count": 24,
      "outputs": [
        {
          "output_type": "stream",
          "name": "stdout",
          "text": [
            "Drive already mounted at /content/drive; to attempt to forcibly remount, call drive.mount(\"/content/drive\", force_remount=True).\n",
            "Image 1 saved to Google Drive.\n",
            "Failed to save image 2: cannot identify image file <_io.BytesIO object at 0x7cc4f7cc7290>\n",
            "Failed to save image 3: cannot identify image file <_io.BytesIO object at 0x7cc530aff510>\n",
            "Image 4 saved to Google Drive.\n",
            "Image 5 saved to Google Drive.\n",
            "Failed to save image 6: HTTPConnectionPool(host='wallpaper.1000webgames.com', port=80): Max retries exceeded with url: /wallpapers/lhasa_apso_dog_wallpaper-1024x768.jpg (Caused by NameResolutionError(\"<urllib3.connection.HTTPConnection object at 0x7cc5183f71c0>: Failed to resolve 'wallpaper.1000webgames.com' ([Errno -2] Name or service not known)\"))\n",
            "Image 7 saved to Google Drive.\n",
            "Image 8 saved to Google Drive.\n",
            "Image 9 saved to Google Drive.\n",
            "Image 10 saved to Google Drive.\n",
            "Image 11 saved to Google Drive.\n",
            "Image 12 saved to Google Drive.\n",
            "Image 13 saved to Google Drive.\n",
            "Image 14 saved to Google Drive.\n",
            "Failed to save image 15: cannot identify image file <_io.BytesIO object at 0x7cc50057bec0>\n",
            "Image 16 saved to Google Drive.\n",
            "Image 17 saved to Google Drive.\n",
            "Failed to save image 18: cannot identify image file <_io.BytesIO object at 0x7cc50057b240>\n",
            "Image 19 saved to Google Drive.\n",
            "Failed to save image 20: cannot identify image file <_io.BytesIO object at 0x7cc518414310>\n",
            "Failed to save image 21: cannot identify image file <_io.BytesIO object at 0x7cc518594c20>\n",
            "Image 22 saved to Google Drive.\n",
            "Image 23 saved to Google Drive.\n",
            "Failed to save image 24: cannot identify image file <_io.BytesIO object at 0x7cc530bfd0d0>\n",
            "Failed to save image 25: cannot identify image file <_io.BytesIO object at 0x7cc50013c220>\n",
            "Image 26 saved to Google Drive.\n",
            "Image 27 saved to Google Drive.\n",
            "Image 28 saved to Google Drive.\n",
            "Image 29 saved to Google Drive.\n",
            "Image 30 saved to Google Drive.\n",
            "Failed to save image 31: cannot identify image file <_io.BytesIO object at 0x7cc530e212b0>\n",
            "Image 32 saved to Google Drive.\n",
            "Image 33 saved to Google Drive.\n",
            "Image 34 saved to Google Drive.\n",
            "Image 35 saved to Google Drive.\n"
          ]
        }
      ]
    },
    {
      "cell_type": "code",
      "source": [],
      "metadata": {
        "id": "Z44R4qn_hQoe"
      },
      "execution_count": null,
      "outputs": []
    }
  ]
}